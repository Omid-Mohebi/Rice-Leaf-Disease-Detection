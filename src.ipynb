{
 "cells": [
  {
   "cell_type": "code",
   "execution_count": null,
   "metadata": {},
   "outputs": [],
   "source": [
    "import kagglehub\n",
    "import os\n",
    "import numpy as np\n",
    "from PIL import Image\n",
    "import matplotlib.pyplot as plt\n",
    "\n",
    "\n",
    "path = kagglehub.dataset_download(\"nirmalsankalana/rice-leaf-disease-image\")\n",
    "class_names = os.listdir(path)"
   ]
  },
  {
   "cell_type": "code",
   "execution_count": null,
   "metadata": {},
   "outputs": [],
   "source": [
    "images = []\n",
    "labels = []\n",
    "\n",
    "for class_name in class_names:\n",
    "    class_folder = os.path.join(path, class_name)\n",
    "    \n",
    "    for filename in os.listdir(class_folder):\n",
    "        if filename.endswith('.jpg') or filename.endswith('.png'):\n",
    "            img_path = os.path.join(class_folder, filename)\n",
    "            \n",
    "            img = Image.open(img_path)\n",
    "            img = img.convert('RGB')\n",
    "            img = img.resize((128, 128))\n",
    "            img_array = np.array(img)\n",
    "            \n",
    "            images.append(img_array)\n",
    "            labels.append(class_name)\n",
    "\n",
    "images_array = np.array(images)\n",
    "labels_array = np.array(labels)\n",
    "\n",
    "print(\"Images array shape:\", images_array.shape)\n",
    "print(\"Labels array shape:\", labels_array.shape)"
   ]
  }
 ],
 "metadata": {
  "language_info": {
   "name": "python"
  }
 },
 "nbformat": 4,
 "nbformat_minor": 2
}
