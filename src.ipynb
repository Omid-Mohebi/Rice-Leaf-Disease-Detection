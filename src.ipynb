{
 "cells": [
  {
   "cell_type": "code",
   "execution_count": null,
   "metadata": {},
   "outputs": [],
   "source": [
    "import numpy as np\n",
    "import pandas as pd\n",
    "import matplotlib.pyplot as plt\n",
    "import os\n",
    "\n",
    "classes = []\n",
    "raw_data = []\n",
    "\n",
    "for dirname, _, filenames in os.walk('/kaggle/input/rice-leaf-disease-image'):\n",
    "    classes.append(dirname.split('/')[-1])\n",
    "    \n",
    "    for filename in filenames:\n",
    "        file_path = os.path.join(dirname, filename)\n",
    "        raw_data.append(file_path)\n",
    "\n",
    "classes = classes[1:]\n",
    "\n",
    "data = []\n",
    "\n",
    "for img in raw_data:\n",
    "    data.append([plt.imread(img), img.split('/')[-2]])\n"
   ]
  }
 ],
 "metadata": {
  "language_info": {
   "name": "python"
  }
 },
 "nbformat": 4,
 "nbformat_minor": 2
}
